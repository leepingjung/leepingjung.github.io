{
  "nbformat": 4,
  "nbformat_minor": 0,
  "metadata": {
    "colab": {
      "provenance": [],
      "collapsed_sections": [],
      "toc_visible": true,
      "authorship_tag": "ABX9TyOzsRoKtDbX45HQvP6VzBi/",
      "include_colab_link": true
    },
    "kernelspec": {
      "name": "python3",
      "display_name": "Python 3"
    },
    "language_info": {
      "name": "python"
    }
  },
  "cells": [
    {
      "cell_type": "markdown",
      "metadata": {
        "id": "view-in-github",
        "colab_type": "text"
      },
      "source": [
        "<a href=\"https://colab.research.google.com/github/leepingjung/leepingjung.github.io/blob/master/2022_08_08_01.ipynb\" target=\"_parent\"><img src=\"https://colab.research.google.com/assets/colab-badge.svg\" alt=\"Open In Colab\"/></a>"
      ]
    },
    {
      "cell_type": "code",
      "source": [
        "# 拿到每一頁每一張圖片網址\n",
        "import requests\n",
        "from bs4 import BeautifulSoup\n",
        "import json\n",
        "\n",
        "imgs_url = []\n",
        "page = 0\n",
        "while True:\n",
        "    # TODO: 看你要搜尋啥    \n",
        "    url = (\"https://www.google.com/search?ei=Z3KJXYefGIK0mAX-vp64CQ&yv=3&q=PlectorhinchusCinctus&tbm=isch&vet=10ahUKEwjH7qivqOjkAhUCGqYKHX6fB5cQuT0ISigB.Z3KJXYefGIK0mAX-vp64CQ.i&ved=0ahUKEwjH7qivqOjkAhUCGqYKHX6fB5cQuT0ISigB&ijn=\"\n",
        "            + str(page) + \"&start=\"\n",
        "            + str(page * 100) +\"&asearch=ichunk&async=_id:rg_s,_pms:s,_jsfs:Ffpdje,_fmt:pc\")\n",
        "    print(\"第幾頁:\", page + 1)\n",
        "    print(\"網址:\", url)\n",
        "    h = {\n",
        "        \"accept-language\":\"zh-TW,zh;q=0.9,en-US;q=0.8,en;q=0.7\",\n",
        "        \"user-agent\":\"Mozilla/5.0 (Windows NT 10.0; Win64; x64) AppleWebKit/537.36 (KHTML, like Gecko) Chrome/76.0.3809.132 Safari/537.36\"\n",
        "    }\n",
        "    response = requests.get(url, headers=h)\n",
        "    \n",
        "    html = BeautifulSoup(response.text)\n",
        "    divs = html.find_all(\"div\", class_=\"rg_meta\")\n",
        "    \n",
        "    if len(divs) == 0:\n",
        "        print(\"應該是最後一頁了\")\n",
        "        break\n",
        "    \n",
        "    print(\"這頁有幾張?\", len(divs))\n",
        "    for d in divs:\n",
        "        img = json.loads(d.text)[\"ou\"]\n",
        "        imgs_url.append(img)\n",
        "    page = page + 1"
      ],
      "metadata": {
        "id": "VulzKL-VBd_Z",
        "colab": {
          "base_uri": "https://localhost:8080/"
        },
        "outputId": "7681015a-8cd3-4b78-dc88-710290deee64"
      },
      "execution_count": 1,
      "outputs": [
        {
          "output_type": "stream",
          "name": "stdout",
          "text": [
            "第幾頁: 1\n",
            "網址: https://www.google.com/search?ei=Z3KJXYefGIK0mAX-vp64CQ&yv=3&q=PlectorhinchusCinctus&tbm=isch&vet=10ahUKEwjH7qivqOjkAhUCGqYKHX6fB5cQuT0ISigB.Z3KJXYefGIK0mAX-vp64CQ.i&ved=0ahUKEwjH7qivqOjkAhUCGqYKHX6fB5cQuT0ISigB&ijn=0&start=0&asearch=ichunk&async=_id:rg_s,_pms:s,_jsfs:Ffpdje,_fmt:pc\n",
            "這頁有幾張? 100\n",
            "第幾頁: 2\n",
            "網址: https://www.google.com/search?ei=Z3KJXYefGIK0mAX-vp64CQ&yv=3&q=PlectorhinchusCinctus&tbm=isch&vet=10ahUKEwjH7qivqOjkAhUCGqYKHX6fB5cQuT0ISigB.Z3KJXYefGIK0mAX-vp64CQ.i&ved=0ahUKEwjH7qivqOjkAhUCGqYKHX6fB5cQuT0ISigB&ijn=1&start=100&asearch=ichunk&async=_id:rg_s,_pms:s,_jsfs:Ffpdje,_fmt:pc\n",
            "這頁有幾張? 100\n",
            "第幾頁: 3\n",
            "網址: https://www.google.com/search?ei=Z3KJXYefGIK0mAX-vp64CQ&yv=3&q=PlectorhinchusCinctus&tbm=isch&vet=10ahUKEwjH7qivqOjkAhUCGqYKHX6fB5cQuT0ISigB.Z3KJXYefGIK0mAX-vp64CQ.i&ved=0ahUKEwjH7qivqOjkAhUCGqYKHX6fB5cQuT0ISigB&ijn=2&start=200&asearch=ichunk&async=_id:rg_s,_pms:s,_jsfs:Ffpdje,_fmt:pc\n",
            "這頁有幾張? 100\n",
            "第幾頁: 4\n",
            "網址: https://www.google.com/search?ei=Z3KJXYefGIK0mAX-vp64CQ&yv=3&q=PlectorhinchusCinctus&tbm=isch&vet=10ahUKEwjH7qivqOjkAhUCGqYKHX6fB5cQuT0ISigB.Z3KJXYefGIK0mAX-vp64CQ.i&ved=0ahUKEwjH7qivqOjkAhUCGqYKHX6fB5cQuT0ISigB&ijn=3&start=300&asearch=ichunk&async=_id:rg_s,_pms:s,_jsfs:Ffpdje,_fmt:pc\n",
            "這頁有幾張? 100\n",
            "第幾頁: 5\n",
            "網址: https://www.google.com/search?ei=Z3KJXYefGIK0mAX-vp64CQ&yv=3&q=PlectorhinchusCinctus&tbm=isch&vet=10ahUKEwjH7qivqOjkAhUCGqYKHX6fB5cQuT0ISigB.Z3KJXYefGIK0mAX-vp64CQ.i&ved=0ahUKEwjH7qivqOjkAhUCGqYKHX6fB5cQuT0ISigB&ijn=4&start=400&asearch=ichunk&async=_id:rg_s,_pms:s,_jsfs:Ffpdje,_fmt:pc\n",
            "這頁有幾張? 100\n",
            "第幾頁: 6\n",
            "網址: https://www.google.com/search?ei=Z3KJXYefGIK0mAX-vp64CQ&yv=3&q=PlectorhinchusCinctus&tbm=isch&vet=10ahUKEwjH7qivqOjkAhUCGqYKHX6fB5cQuT0ISigB.Z3KJXYefGIK0mAX-vp64CQ.i&ved=0ahUKEwjH7qivqOjkAhUCGqYKHX6fB5cQuT0ISigB&ijn=5&start=500&asearch=ichunk&async=_id:rg_s,_pms:s,_jsfs:Ffpdje,_fmt:pc\n",
            "這頁有幾張? 100\n",
            "第幾頁: 7\n",
            "網址: https://www.google.com/search?ei=Z3KJXYefGIK0mAX-vp64CQ&yv=3&q=PlectorhinchusCinctus&tbm=isch&vet=10ahUKEwjH7qivqOjkAhUCGqYKHX6fB5cQuT0ISigB.Z3KJXYefGIK0mAX-vp64CQ.i&ved=0ahUKEwjH7qivqOjkAhUCGqYKHX6fB5cQuT0ISigB&ijn=6&start=600&asearch=ichunk&async=_id:rg_s,_pms:s,_jsfs:Ffpdje,_fmt:pc\n",
            "這頁有幾張? 100\n",
            "第幾頁: 8\n",
            "網址: https://www.google.com/search?ei=Z3KJXYefGIK0mAX-vp64CQ&yv=3&q=PlectorhinchusCinctus&tbm=isch&vet=10ahUKEwjH7qivqOjkAhUCGqYKHX6fB5cQuT0ISigB.Z3KJXYefGIK0mAX-vp64CQ.i&ved=0ahUKEwjH7qivqOjkAhUCGqYKHX6fB5cQuT0ISigB&ijn=7&start=700&asearch=ichunk&async=_id:rg_s,_pms:s,_jsfs:Ffpdje,_fmt:pc\n",
            "這頁有幾張? 100\n",
            "第幾頁: 9\n",
            "網址: https://www.google.com/search?ei=Z3KJXYefGIK0mAX-vp64CQ&yv=3&q=PlectorhinchusCinctus&tbm=isch&vet=10ahUKEwjH7qivqOjkAhUCGqYKHX6fB5cQuT0ISigB.Z3KJXYefGIK0mAX-vp64CQ.i&ved=0ahUKEwjH7qivqOjkAhUCGqYKHX6fB5cQuT0ISigB&ijn=8&start=800&asearch=ichunk&async=_id:rg_s,_pms:s,_jsfs:Ffpdje,_fmt:pc\n",
            "這頁有幾張? 100\n",
            "第幾頁: 10\n",
            "網址: https://www.google.com/search?ei=Z3KJXYefGIK0mAX-vp64CQ&yv=3&q=PlectorhinchusCinctus&tbm=isch&vet=10ahUKEwjH7qivqOjkAhUCGqYKHX6fB5cQuT0ISigB.Z3KJXYefGIK0mAX-vp64CQ.i&ved=0ahUKEwjH7qivqOjkAhUCGqYKHX6fB5cQuT0ISigB&ijn=9&start=900&asearch=ichunk&async=_id:rg_s,_pms:s,_jsfs:Ffpdje,_fmt:pc\n",
            "這頁有幾張? 2\n",
            "第幾頁: 11\n",
            "網址: https://www.google.com/search?ei=Z3KJXYefGIK0mAX-vp64CQ&yv=3&q=PlectorhinchusCinctus&tbm=isch&vet=10ahUKEwjH7qivqOjkAhUCGqYKHX6fB5cQuT0ISigB.Z3KJXYefGIK0mAX-vp64CQ.i&ved=0ahUKEwjH7qivqOjkAhUCGqYKHX6fB5cQuT0ISigB&ijn=10&start=1000&asearch=ichunk&async=_id:rg_s,_pms:s,_jsfs:Ffpdje,_fmt:pc\n",
            "應該是最後一頁了\n"
          ]
        }
      ]
    }
  ]
}